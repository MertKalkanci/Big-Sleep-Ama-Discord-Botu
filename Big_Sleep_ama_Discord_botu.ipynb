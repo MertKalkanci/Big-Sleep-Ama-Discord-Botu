{
  "cells": [
    {
      "cell_type": "markdown",
      "metadata": {
        "id": "BAzML5MSLOg5"
      },
      "source": [
        "## RUN IN GPU MODE"
      ]
    },
    {
      "cell_type": "markdown",
      "metadata": {
        "id": "jPy2zKWoXYn3"
      },
      "source": [
        "# Initialisation"
      ]
    },
    {
      "cell_type": "markdown",
      "metadata": {
        "id": "jRfQfR70XGsb"
      },
      "source": [
        "  **Pip Installs**"
      ]
    },
    {
      "cell_type": "code",
      "execution_count": null,
      "metadata": {
        "id": "D2jUsCZXaqcw",
        "vscode": {
          "languageId": "python"
        }
      },
      "outputs": [],
      "source": [
        "!pip install big-sleep"
      ]
    },
    {
      "cell_type": "code",
      "execution_count": null,
      "metadata": {
        "id": "U773bzP7sc4d",
        "vscode": {
          "languageId": "python"
        }
      },
      "outputs": [],
      "source": [
        "!pip install discord.py"
      ]
    },
    {
      "cell_type": "code",
      "execution_count": null,
      "metadata": {
        "id": "8WTrvZXBXMbF",
        "vscode": {
          "languageId": "python"
        }
      },
      "outputs": [],
      "source": [
        "!pip install nest_asyncio "
      ]
    },
    {
      "cell_type": "markdown",
      "metadata": {
        "id": "AtWAdXyuXPhV"
      },
      "source": [
        "**Imports**"
      ]
    },
    {
      "cell_type": "code",
      "execution_count": null,
      "metadata": {
        "id": "eU2wo7Fvyp1j",
        "vscode": {
          "languageId": "python"
        }
      },
      "outputs": [],
      "source": [
        "import nest_asyncio \n",
        "nest_asyncio.apply()"
      ]
    },
    {
      "cell_type": "code",
      "execution_count": null,
      "metadata": {
        "id": "PKQcIzASuCyR",
        "vscode": {
          "languageId": "python"
        }
      },
      "outputs": [],
      "source": [
        "import discord\n",
        "from discord.ext.commands import Bot\n",
        "import random\n",
        "\n",
        "from torch import randint\n",
        "from tqdm.notebook import trange\n",
        "from IPython.display import Image, display\n",
        "import random\n",
        "from big_sleep import Imagine\n",
        "import warnings"
      ]
    },
    {
      "cell_type": "markdown",
      "metadata": {
        "id": "QCZc-7P9XVVW"
      },
      "source": [
        "# Codes"
      ]
    },
    {
      "cell_type": "markdown",
      "metadata": {
        "id": "hTerzjSKXnsR"
      },
      "source": [
        "Functions"
      ]
    },
    {
      "cell_type": "code",
      "execution_count": null,
      "metadata": {
        "id": "dctfB3Nj_GWi",
        "vscode": {
          "languageId": "python"
        }
      },
      "outputs": [],
      "source": [
        "async def generate_img(TEXT,EPOCH,IT, CTX):\n",
        "  global STOPPER\n",
        "  old_msg = await CTX.send(f'Generating: \"{TEXT}\", Epochs: \"{EPOCH}\",Iterations: \"{IT}\"')\n",
        "\n",
        "  _EPOCH = int(EPOCH)\n",
        "  _IT = int(IT)\n",
        "  SAVE_EVERY = _IT / 2\n",
        "  SAVE_PROGRESS = True \n",
        "  LEARNING_RATE = 5e-2 \n",
        "  ITERATIONS = 1050\n",
        "  SEED = 0\n",
        "\n",
        "  model = Imagine(\n",
        "    text = TEXT,\n",
        "    save_every = SAVE_EVERY,\n",
        "    lr = LEARNING_RATE,\n",
        "    iterations = ITERATIONS,\n",
        "    save_progress = SAVE_PROGRESS,\n",
        "    seed = SEED\n",
        "  )\n",
        "  \n",
        "  with open(\"./PP.png\", \"rb\") as fh:\n",
        "    f = discord.File(fh, filename=\"./PP.png\")\n",
        "    \n",
        "  msg = await CTX.send(content=\"Initialised Model\",file=f)\n",
        "\n",
        "  filename = model.text.replace(' ', '_')\n",
        "  print(\"\\n\")\n",
        "  print(f'./{filename}.png')\n",
        "  fullname = f'./{filename}.png'\n",
        "\n",
        "  for epoch in trange(_EPOCH, desc = 'epochs'):\n",
        "    \n",
        "    print(f\"Stopper : {STOPPER}\")\n",
        "    if STOPPER:\n",
        "      STOPPER = False\n",
        "      break\n",
        "\n",
        "    for i in trange(_IT, desc = 'iteration'):\n",
        "        model.train_step(epoch, i)\n",
        "\n",
        "    with open(fullname, \"rb\") as fh:\n",
        "      f = discord.File(fh, filename=fullname)\n",
        "    my_list = [f]\n",
        "    await msg.edit(content=f\"Epoch: {epoch + 1} in {_EPOCH}\",attachments=my_list)\n",
        "\n",
        "\n",
        "\n",
        "\n",
        "  with open(fullname, \"rb\") as fh:\n",
        "          f = discord.File(fh, filename=fullname)\n",
        "  my_list = [f]\n",
        "  await msg.edit(content=TEXT,attachments=my_list)\n",
        "  await old_msg.delete()\n",
        "\n",
        "  return"
      ]
    },
    {
      "cell_type": "markdown",
      "metadata": {
        "id": "Jc4n6i8pXpHz"
      },
      "source": [
        "Main"
      ]
    },
    {
      "cell_type": "code",
      "execution_count": null,
      "metadata": {
        "id": "Uj33VQVV_fRZ",
        "vscode": {
          "languageId": "python"
        }
      },
      "outputs": [],
      "source": [
        "global STOPPER\n",
        "STOPPER = False\n",
        "\n",
        "warnings.filterwarnings('ignore')\n",
        "\n",
        "intents = discord.Intents.default()\n",
        "intents.members = True\n",
        "intents.message_content = True\n",
        "\n",
        "bot = Bot(intents=intents,command_prefix=\"$\")\n",
        "\n",
        "@bot.command()\n",
        "async def generate(ctx, epoch, iter ,*args):\n",
        "  text = \"\"\n",
        "  for i in args:\n",
        "    text += i + \" \"\n",
        "  text = text.rstrip(text[-1])\n",
        "\n",
        "\n",
        "  await generate_img(text,epoch, iter, ctx)\n",
        "   \n",
        "\n",
        "@bot.command()\n",
        "async def sj(ctx, *args):\n",
        "  text = \"\"\n",
        "  for i in args:\n",
        "    text += i\n",
        "    \n",
        "  await ctx.send(text)  \n",
        "\n",
        "@bot.command()\n",
        "async def stop(ctx):\n",
        "  global STOPPER\n",
        "  STOPPER=True\n",
        "  print(\"Stopping\")\n",
        "  \n",
        "\n",
        "@bot.event\n",
        "async def on_connect():\n",
        "  print(\"Bot Connected\")\n",
        "    \n",
        "bot.run('YOUR TOKEN HERE', log_handler=None)"
      ]
    }
  ],
  "metadata": {
    "accelerator": "GPU",
    "colab": {
      "provenance": []
    },
    "gpuClass": "standard",
    "kernelspec": {
      "display_name": "Python 3",
      "name": "python3"
    }
  },
  "nbformat": 4,
  "nbformat_minor": 0
}
